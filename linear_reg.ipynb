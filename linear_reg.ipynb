{
  "nbformat": 4,
  "nbformat_minor": 0,
  "metadata": {
    "colab": {
      "provenance": []
    },
    "kernelspec": {
      "name": "python3",
      "display_name": "Python 3"
    },
    "language_info": {
      "name": "python"
    }
  },
  "cells": [
    {
      "cell_type": "code",
      "execution_count": null,
      "metadata": {
        "id": "m87CMKTWzlem"
      },
      "outputs": [],
      "source": [
        "import numpy as np\n",
        "import pandas as pd\n",
        "import matplotlib.pyplot as plt"
      ]
    },
    {
      "cell_type": "code",
      "source": [
        "data=pd.read_csv(\"https://raw.githubusercontent.com/campusx-official/100-days-of-machine-learning/main/day48-simple-linear-regression/placement.csv\")"
      ],
      "metadata": {
        "id": "HO_8oiCD0eOk"
      },
      "execution_count": null,
      "outputs": []
    },
    {
      "cell_type": "code",
      "source": [
        "data"
      ],
      "metadata": {
        "colab": {
          "base_uri": "https://localhost:8080/",
          "height": 424
        },
        "id": "7tv0X68i0jEE",
        "outputId": "99a84316-90be-464e-a7f3-748591995522"
      },
      "execution_count": null,
      "outputs": [
        {
          "output_type": "execute_result",
          "data": {
            "text/plain": [
              "     cgpa  package\n",
              "0    6.89     3.26\n",
              "1    5.12     1.98\n",
              "2    7.82     3.25\n",
              "3    7.42     3.67\n",
              "4    6.94     3.57\n",
              "..    ...      ...\n",
              "195  6.93     2.46\n",
              "196  5.89     2.57\n",
              "197  7.21     3.24\n",
              "198  7.63     3.96\n",
              "199  6.22     2.33\n",
              "\n",
              "[200 rows x 2 columns]"
            ],
            "text/html": [
              "\n",
              "  <div id=\"df-8cd4a969-d837-47a4-a390-6720753d0f85\">\n",
              "    <div class=\"colab-df-container\">\n",
              "      <div>\n",
              "<style scoped>\n",
              "    .dataframe tbody tr th:only-of-type {\n",
              "        vertical-align: middle;\n",
              "    }\n",
              "\n",
              "    .dataframe tbody tr th {\n",
              "        vertical-align: top;\n",
              "    }\n",
              "\n",
              "    .dataframe thead th {\n",
              "        text-align: right;\n",
              "    }\n",
              "</style>\n",
              "<table border=\"1\" class=\"dataframe\">\n",
              "  <thead>\n",
              "    <tr style=\"text-align: right;\">\n",
              "      <th></th>\n",
              "      <th>cgpa</th>\n",
              "      <th>package</th>\n",
              "    </tr>\n",
              "  </thead>\n",
              "  <tbody>\n",
              "    <tr>\n",
              "      <th>0</th>\n",
              "      <td>6.89</td>\n",
              "      <td>3.26</td>\n",
              "    </tr>\n",
              "    <tr>\n",
              "      <th>1</th>\n",
              "      <td>5.12</td>\n",
              "      <td>1.98</td>\n",
              "    </tr>\n",
              "    <tr>\n",
              "      <th>2</th>\n",
              "      <td>7.82</td>\n",
              "      <td>3.25</td>\n",
              "    </tr>\n",
              "    <tr>\n",
              "      <th>3</th>\n",
              "      <td>7.42</td>\n",
              "      <td>3.67</td>\n",
              "    </tr>\n",
              "    <tr>\n",
              "      <th>4</th>\n",
              "      <td>6.94</td>\n",
              "      <td>3.57</td>\n",
              "    </tr>\n",
              "    <tr>\n",
              "      <th>...</th>\n",
              "      <td>...</td>\n",
              "      <td>...</td>\n",
              "    </tr>\n",
              "    <tr>\n",
              "      <th>195</th>\n",
              "      <td>6.93</td>\n",
              "      <td>2.46</td>\n",
              "    </tr>\n",
              "    <tr>\n",
              "      <th>196</th>\n",
              "      <td>5.89</td>\n",
              "      <td>2.57</td>\n",
              "    </tr>\n",
              "    <tr>\n",
              "      <th>197</th>\n",
              "      <td>7.21</td>\n",
              "      <td>3.24</td>\n",
              "    </tr>\n",
              "    <tr>\n",
              "      <th>198</th>\n",
              "      <td>7.63</td>\n",
              "      <td>3.96</td>\n",
              "    </tr>\n",
              "    <tr>\n",
              "      <th>199</th>\n",
              "      <td>6.22</td>\n",
              "      <td>2.33</td>\n",
              "    </tr>\n",
              "  </tbody>\n",
              "</table>\n",
              "<p>200 rows × 2 columns</p>\n",
              "</div>\n",
              "      <button class=\"colab-df-convert\" onclick=\"convertToInteractive('df-8cd4a969-d837-47a4-a390-6720753d0f85')\"\n",
              "              title=\"Convert this dataframe to an interactive table.\"\n",
              "              style=\"display:none;\">\n",
              "        \n",
              "  <svg xmlns=\"http://www.w3.org/2000/svg\" height=\"24px\"viewBox=\"0 0 24 24\"\n",
              "       width=\"24px\">\n",
              "    <path d=\"M0 0h24v24H0V0z\" fill=\"none\"/>\n",
              "    <path d=\"M18.56 5.44l.94 2.06.94-2.06 2.06-.94-2.06-.94-.94-2.06-.94 2.06-2.06.94zm-11 1L8.5 8.5l.94-2.06 2.06-.94-2.06-.94L8.5 2.5l-.94 2.06-2.06.94zm10 10l.94 2.06.94-2.06 2.06-.94-2.06-.94-.94-2.06-.94 2.06-2.06.94z\"/><path d=\"M17.41 7.96l-1.37-1.37c-.4-.4-.92-.59-1.43-.59-.52 0-1.04.2-1.43.59L10.3 9.45l-7.72 7.72c-.78.78-.78 2.05 0 2.83L4 21.41c.39.39.9.59 1.41.59.51 0 1.02-.2 1.41-.59l7.78-7.78 2.81-2.81c.8-.78.8-2.07 0-2.86zM5.41 20L4 18.59l7.72-7.72 1.47 1.35L5.41 20z\"/>\n",
              "  </svg>\n",
              "      </button>\n",
              "      \n",
              "  <style>\n",
              "    .colab-df-container {\n",
              "      display:flex;\n",
              "      flex-wrap:wrap;\n",
              "      gap: 12px;\n",
              "    }\n",
              "\n",
              "    .colab-df-convert {\n",
              "      background-color: #E8F0FE;\n",
              "      border: none;\n",
              "      border-radius: 50%;\n",
              "      cursor: pointer;\n",
              "      display: none;\n",
              "      fill: #1967D2;\n",
              "      height: 32px;\n",
              "      padding: 0 0 0 0;\n",
              "      width: 32px;\n",
              "    }\n",
              "\n",
              "    .colab-df-convert:hover {\n",
              "      background-color: #E2EBFA;\n",
              "      box-shadow: 0px 1px 2px rgba(60, 64, 67, 0.3), 0px 1px 3px 1px rgba(60, 64, 67, 0.15);\n",
              "      fill: #174EA6;\n",
              "    }\n",
              "\n",
              "    [theme=dark] .colab-df-convert {\n",
              "      background-color: #3B4455;\n",
              "      fill: #D2E3FC;\n",
              "    }\n",
              "\n",
              "    [theme=dark] .colab-df-convert:hover {\n",
              "      background-color: #434B5C;\n",
              "      box-shadow: 0px 1px 3px 1px rgba(0, 0, 0, 0.15);\n",
              "      filter: drop-shadow(0px 1px 2px rgba(0, 0, 0, 0.3));\n",
              "      fill: #FFFFFF;\n",
              "    }\n",
              "  </style>\n",
              "\n",
              "      <script>\n",
              "        const buttonEl =\n",
              "          document.querySelector('#df-8cd4a969-d837-47a4-a390-6720753d0f85 button.colab-df-convert');\n",
              "        buttonEl.style.display =\n",
              "          google.colab.kernel.accessAllowed ? 'block' : 'none';\n",
              "\n",
              "        async function convertToInteractive(key) {\n",
              "          const element = document.querySelector('#df-8cd4a969-d837-47a4-a390-6720753d0f85');\n",
              "          const dataTable =\n",
              "            await google.colab.kernel.invokeFunction('convertToInteractive',\n",
              "                                                     [key], {});\n",
              "          if (!dataTable) return;\n",
              "\n",
              "          const docLinkHtml = 'Like what you see? Visit the ' +\n",
              "            '<a target=\"_blank\" href=https://colab.research.google.com/notebooks/data_table.ipynb>data table notebook</a>'\n",
              "            + ' to learn more about interactive tables.';\n",
              "          element.innerHTML = '';\n",
              "          dataTable['output_type'] = 'display_data';\n",
              "          await google.colab.output.renderOutput(dataTable, element);\n",
              "          const docLink = document.createElement('div');\n",
              "          docLink.innerHTML = docLinkHtml;\n",
              "          element.appendChild(docLink);\n",
              "        }\n",
              "      </script>\n",
              "    </div>\n",
              "  </div>\n",
              "  "
            ]
          },
          "metadata": {},
          "execution_count": 5
        }
      ]
    },
    {
      "cell_type": "code",
      "source": [
        "data.isnull().sum()"
      ],
      "metadata": {
        "colab": {
          "base_uri": "https://localhost:8080/"
        },
        "id": "3zq0Grnp083Q",
        "outputId": "6ebb4011-74c3-4195-a9ef-90b6a6da9a66"
      },
      "execution_count": null,
      "outputs": [
        {
          "output_type": "execute_result",
          "data": {
            "text/plain": [
              "cgpa       0\n",
              "package    0\n",
              "dtype: int64"
            ]
          },
          "metadata": {},
          "execution_count": 6
        }
      ]
    },
    {
      "cell_type": "code",
      "source": [
        "plt.scatter(data['cgpa'],data['package'])\n",
        "plt.show()"
      ],
      "metadata": {
        "colab": {
          "base_uri": "https://localhost:8080/",
          "height": 265
        },
        "id": "SrvmqywW1Ktr",
        "outputId": "d704d683-e73c-4af6-81f3-e7da27e7a8f1"
      },
      "execution_count": null,
      "outputs": [
        {
          "output_type": "display_data",
          "data": {
            "text/plain": [
              "<Figure size 432x288 with 1 Axes>"
            ],
            "image/png": "[encoded data removed]"
          },
          "metadata": {
            "needs_background": "light"
          }
        }
      ]
    },
    {
      "cell_type": "code",
      "source": [
        "x=data.iloc[:,[0]].values\n",
        "y=data.iloc[:,[1]].values"
      ],
      "metadata": {
        "id": "QN22iGLN1fmg"
      },
      "execution_count": null,
      "outputs": []
    },
    {
      "cell_type": "code",
      "source": [
        "x"
      ],
      "metadata": {
        "colab": {
          "base_uri": "https://localhost:8080/"
        },
        "id": "D-uXVc9s1trt",
        "outputId": "ace80141-396b-405b-bca8-f093e505d5c4"
      },
      "execution_count": null,
      "outputs": [
        {
          "output_type": "execute_result",
          "data": {
            "text/plain": [
              "array([[6.89],\n",
              "       [5.12],\n",
              "       [7.82],\n",
              "       [7.42],\n",
              "       [6.94],\n",
              "       [7.89],\n",
              "       [6.73],\n",
              "       [6.75],\n",
              "       [6.09],\n",
              "       [8.31],\n",
              "       [5.32],\n",
              "       [6.61],\n",
              "       [8.94],\n",
              "       [6.93],\n",
              "       [7.73],\n",
              "       [7.25],\n",
              "       [6.84],\n",
              "       [5.38],\n",
              "       [6.94],\n",
              "       [7.48],\n",
              "       [7.28],\n",
              "       [6.85],\n",
              "       [6.14],\n",
              "       [6.19],\n",
              "       [6.53],\n",
              "       [7.28],\n",
              "       [8.31],\n",
              "       [5.42],\n",
              "       [5.94],\n",
              "       [7.15],\n",
              "       [7.36],\n",
              "       [8.1 ],\n",
              "       [6.96],\n",
              "       [6.35],\n",
              "       [7.34],\n",
              "       [6.87],\n",
              "       [5.99],\n",
              "       [5.9 ],\n",
              "       [8.62],\n",
              "       [7.43],\n",
              "       [9.38],\n",
              "       [6.89],\n",
              "       [5.95],\n",
              "       [7.66],\n",
              "       [5.09],\n",
              "       [7.87],\n",
              "       [6.07],\n",
              "       [5.84],\n",
              "       [8.63],\n",
              "       [8.87],\n",
              "       [9.58],\n",
              "       [9.26],\n",
              "       [8.37],\n",
              "       [6.47],\n",
              "       [6.86],\n",
              "       [8.2 ],\n",
              "       [5.84],\n",
              "       [6.6 ],\n",
              "       [6.92],\n",
              "       [7.56],\n",
              "       [5.61],\n",
              "       [5.48],\n",
              "       [6.34],\n",
              "       [9.16],\n",
              "       [7.36],\n",
              "       [7.6 ],\n",
              "       [5.11],\n",
              "       [6.51],\n",
              "       [7.56],\n",
              "       [7.3 ],\n",
              "       [5.79],\n",
              "       [7.47],\n",
              "       [7.78],\n",
              "       [8.44],\n",
              "       [6.85],\n",
              "       [6.97],\n",
              "       [6.94],\n",
              "       [8.99],\n",
              "       [6.59],\n",
              "       [7.18],\n",
              "       [7.63],\n",
              "       [6.1 ],\n",
              "       [5.58],\n",
              "       [8.44],\n",
              "       [4.26],\n",
              "       [4.79],\n",
              "       [7.61],\n",
              "       [8.09],\n",
              "       [4.73],\n",
              "       [6.42],\n",
              "       [7.11],\n",
              "       [6.22],\n",
              "       [7.9 ],\n",
              "       [6.79],\n",
              "       [5.83],\n",
              "       [6.63],\n",
              "       [7.11],\n",
              "       [5.98],\n",
              "       [7.69],\n",
              "       [6.61],\n",
              "       [7.95],\n",
              "       [6.71],\n",
              "       [5.13],\n",
              "       [7.05],\n",
              "       [7.62],\n",
              "       [6.66],\n",
              "       [6.13],\n",
              "       [6.33],\n",
              "       [7.76],\n",
              "       [7.77],\n",
              "       [8.18],\n",
              "       [5.42],\n",
              "       [8.58],\n",
              "       [6.94],\n",
              "       [5.84],\n",
              "       [8.35],\n",
              "       [9.04],\n",
              "       [7.12],\n",
              "       [7.4 ],\n",
              "       [7.39],\n",
              "       [5.23],\n",
              "       [6.5 ],\n",
              "       [5.12],\n",
              "       [5.1 ],\n",
              "       [6.06],\n",
              "       [7.33],\n",
              "       [5.91],\n",
              "       [6.78],\n",
              "       [7.93],\n",
              "       [7.29],\n",
              "       [6.68],\n",
              "       [6.37],\n",
              "       [5.84],\n",
              "       [6.05],\n",
              "       [7.2 ],\n",
              "       [6.1 ],\n",
              "       [5.64],\n",
              "       [7.14],\n",
              "       [7.91],\n",
              "       [7.19],\n",
              "       [7.91],\n",
              "       [6.76],\n",
              "       [6.93],\n",
              "       [4.85],\n",
              "       [6.17],\n",
              "       [5.84],\n",
              "       [6.07],\n",
              "       [5.66],\n",
              "       [7.57],\n",
              "       [8.28],\n",
              "       [6.3 ],\n",
              "       [6.12],\n",
              "       [7.37],\n",
              "       [7.94],\n",
              "       [7.08],\n",
              "       [6.98],\n",
              "       [7.38],\n",
              "       [6.47],\n",
              "       [5.95],\n",
              "       [8.71],\n",
              "       [7.13],\n",
              "       [7.3 ],\n",
              "       [5.53],\n",
              "       [8.93],\n",
              "       [9.06],\n",
              "       [8.21],\n",
              "       [8.6 ],\n",
              "       [8.13],\n",
              "       [8.65],\n",
              "       [9.31],\n",
              "       [6.22],\n",
              "       [8.01],\n",
              "       [6.93],\n",
              "       [6.75],\n",
              "       [7.32],\n",
              "       [7.04],\n",
              "       [6.29],\n",
              "       [7.09],\n",
              "       [8.15],\n",
              "       [7.14],\n",
              "       [6.19],\n",
              "       [8.22],\n",
              "       [5.88],\n",
              "       [7.28],\n",
              "       [7.88],\n",
              "       [6.31],\n",
              "       [7.84],\n",
              "       [6.26],\n",
              "       [7.35],\n",
              "       [8.11],\n",
              "       [6.19],\n",
              "       [7.28],\n",
              "       [8.25],\n",
              "       [4.57],\n",
              "       [7.89],\n",
              "       [6.93],\n",
              "       [5.89],\n",
              "       [7.21],\n",
              "       [7.63],\n",
              "       [6.22]])"
            ]
          },
          "metadata": {},
          "execution_count": 9
        }
      ]
    },
    {
      "cell_type": "code",
      "source": [
        "x.shape"
      ],
      "metadata": {
        "colab": {
          "base_uri": "https://localhost:8080/"
        },
        "id": "oeyNkOfW1ucM",
        "outputId": "46a8b680-4fb8-4546-95fd-ba1a95b399c8"
      },
      "execution_count": null,
      "outputs": [
        {
          "output_type": "execute_result",
          "data": {
            "text/plain": [
              "(200, 1)"
            ]
          },
          "metadata": {},
          "execution_count": 10
        }
      ]
    },
    {
      "cell_type": "code",
      "source": [
        "y.shape"
      ],
      "metadata": {
        "colab": {
          "base_uri": "https://localhost:8080/"
        },
        "id": "SyvlC7Ql1y4r",
        "outputId": "b0ae67a2-b422-4e67-d866-c0d56d8196b8"
      },
      "execution_count": null,
      "outputs": [
        {
          "output_type": "execute_result",
          "data": {
            "text/plain": [
              "(200, 1)"
            ]
          },
          "metadata": {},
          "execution_count": 11
        }
      ]
    },
    {
      "cell_type": "code",
      "source": [
        "from sklearn.model_selection import train_test_split\n",
        "x_train,x_test,y_train,y_test= train_test_split(x,y,test_size=0.2,random_state=1)"
      ],
      "metadata": {
        "id": "fvnZbBR211ZI"
      },
      "execution_count": null,
      "outputs": []
    },
    {
      "cell_type": "code",
      "source": [
        "from sklearn.linear_model import LinearRegression"
      ],
      "metadata": {
        "id": "LOOezMce3B2h"
      },
      "execution_count": null,
      "outputs": []
    },
    {
      "cell_type": "code",
      "source": [
        "model= LinearRegression()"
      ],
      "metadata": {
        "id": "GzOzOkiL3qhY"
      },
      "execution_count": null,
      "outputs": []
    },
    {
      "cell_type": "code",
      "source": [
        "model"
      ],
      "metadata": {
        "colab": {
          "base_uri": "https://localhost:8080/"
        },
        "id": "_oI812Ev3t0E",
        "outputId": "4b8fa03e-5b4f-4bfb-e6af-91534bfd202d"
      },
      "execution_count": null,
      "outputs": [
        {
          "output_type": "execute_result",
          "data": {
            "text/plain": [
              "LinearRegression()"
            ]
          },
          "metadata": {},
          "execution_count": 22
        }
      ]
    },
    {
      "cell_type": "code",
      "source": [
        "x_train.shape"
      ],
      "metadata": {
        "colab": {
          "base_uri": "https://localhost:8080/"
        },
        "id": "1qiluiO-3wxg",
        "outputId": "026ee418-2741-4a55-b2fe-376885a460d7"
      },
      "execution_count": null,
      "outputs": [
        {
          "output_type": "execute_result",
          "data": {
            "text/plain": [
              "(160, 1)"
            ]
          },
          "metadata": {},
          "execution_count": 23
        }
      ]
    },
    {
      "cell_type": "code",
      "source": [
        "y_train.shape"
      ],
      "metadata": {
        "colab": {
          "base_uri": "https://localhost:8080/"
        },
        "id": "zj3BMIg638BG",
        "outputId": "674b3b5a-9308-4124-fd01-283ec6b99f66"
      },
      "execution_count": null,
      "outputs": [
        {
          "output_type": "execute_result",
          "data": {
            "text/plain": [
              "(160, 1)"
            ]
          },
          "metadata": {},
          "execution_count": 24
        }
      ]
    },
    {
      "cell_type": "code",
      "source": [
        "model.fit(x_train,y_train)"
      ],
      "metadata": {
        "colab": {
          "base_uri": "https://localhost:8080/"
        },
        "id": "vJs6TYmW3-5m",
        "outputId": "65d9abca-925b-4696-bad7-f1557e188779"
      },
      "execution_count": null,
      "outputs": [
        {
          "output_type": "execute_result",
          "data": {
            "text/plain": [
              "LinearRegression()"
            ]
          },
          "metadata": {},
          "execution_count": 25
        }
      ]
    },
    {
      "cell_type": "code",
      "source": [
        "pred=model.predict(x_test)"
      ],
      "metadata": {
        "id": "Sd53UehF4rKw"
      },
      "execution_count": null,
      "outputs": []
    },
    {
      "cell_type": "code",
      "source": [
        "print(model.predict(x_test[23].reshape(-1,1)))"
      ],
      "metadata": {
        "colab": {
          "base_uri": "https://localhost:8080/"
        },
        "id": "qmWGFMt48XOX",
        "outputId": "c657d606-f39f-43d9-dceb-65c64facca02"
      },
      "execution_count": null,
      "outputs": [
        {
          "output_type": "stream",
          "name": "stdout",
          "text": [
            "[[2.30444534]]\n"
          ]
        }
      ]
    },
    {
      "cell_type": "code",
      "source": [
        "print(y_test[23])"
      ],
      "metadata": {
        "colab": {
          "base_uri": "https://localhost:8080/"
        },
        "id": "XwEukVpq8yDL",
        "outputId": "c6f48375-a15c-44a1-ef5e-3bcfc45bf19c"
      },
      "execution_count": null,
      "outputs": [
        {
          "output_type": "stream",
          "name": "stdout",
          "text": [
            "[2.42]\n"
          ]
        }
      ]
    },
    {
      "cell_type": "code",
      "source": [
        "plt.scatter(x,y)\n",
        "plt.plot(x,model.predict(x),color='red')\n",
        "plt.show()"
      ],
      "metadata": {
        "colab": {
          "base_uri": "https://localhost:8080/",
          "height": 265
        },
        "id": "ctJWudX45_80",
        "outputId": "f76be4c0-811c-46b5-ecfc-2478667cdfa5"
      },
      "execution_count": null,
      "outputs": [
        {
          "output_type": "display_data",
          "data": {
            "text/plain": [
              "<Figure size 432x288 with 1 Axes>"
            ],
            "image/png": "[encoded data removed]"
          },
          "metadata": {
            "needs_background": "light"
          }
        }
      ]
    },
    {
      "cell_type": "code",
      "source": [
        "y_pred=model.predict(x_test)"
      ],
      "metadata": {
        "id": "E_V4FcZK7hAc"
      },
      "execution_count": null,
      "outputs": []
    },
    {
      "cell_type": "code",
      "source": [
        "y_pred.shape"
      ],
      "metadata": {
        "colab": {
          "base_uri": "https://localhost:8080/"
        },
        "id": "bSAUblxf-Ege",
        "outputId": "be1a676d-6008-4ca0-91e4-15e622663f1f"
      },
      "execution_count": null,
      "outputs": [
        {
          "output_type": "execute_result",
          "data": {
            "text/plain": [
              "(40, 1)"
            ]
          },
          "metadata": {},
          "execution_count": 43
        }
      ]
    },
    {
      "cell_type": "code",
      "source": [
        "y_test.shape"
      ],
      "metadata": {
        "colab": {
          "base_uri": "https://localhost:8080/"
        },
        "id": "JJ3Ob9nU-F9C",
        "outputId": "f57ae716-0aa1-4fad-d6f7-c6fe1bf716e1"
      },
      "execution_count": null,
      "outputs": [
        {
          "output_type": "execute_result",
          "data": {
            "text/plain": [
              "(40, 1)"
            ]
          },
          "metadata": {},
          "execution_count": 44
        }
      ]
    },
    {
      "cell_type": "code",
      "source": [
        "from sklearn.metrics import mean_absolute_error,mean_squared_error, r2_score"
      ],
      "metadata": {
        "id": "SwZuFZZ7-OlJ"
      },
      "execution_count": null,
      "outputs": []
    },
    {
      "cell_type": "code",
      "source": [
        "print(mean_squared_error(y_test,y_pred))"
      ],
      "metadata": {
        "colab": {
          "base_uri": "https://localhost:8080/"
        },
        "id": "Om7R4FlB-hVs",
        "outputId": "fafb95bd-39a0-4e50-e918-01a62b32c249"
      },
      "execution_count": null,
      "outputs": [
        {
          "output_type": "stream",
          "name": "stdout",
          "text": [
            "0.1370062519255722\n"
          ]
        }
      ]
    },
    {
      "cell_type": "code",
      "source": [
        "print(mean_absolute_error(y_test,y_pred))"
      ],
      "metadata": {
        "id": "SWthjWMg-rTw",
        "colab": {
          "base_uri": "https://localhost:8080/"
        },
        "outputId": "54602ee4-be07-4eeb-be99-15f157433261"
      },
      "execution_count": null,
      "outputs": [
        {
          "output_type": "stream",
          "name": "stdout",
          "text": [
            "0.29931188593316804\n"
          ]
        }
      ]
    },
    {
      "cell_type": "code",
      "source": [
        "print(r2_score(y_test,y_pred))"
      ],
      "metadata": {
        "colab": {
          "base_uri": "https://localhost:8080/"
        },
        "id": "kIazS9vSG1jc",
        "outputId": "6b7d32b9-8aaf-442b-be25-f901d6b03be8"
      },
      "execution_count": null,
      "outputs": [
        {
          "output_type": "stream",
          "name": "stdout",
          "text": [
            "0.7283345498058083\n"
          ]
        }
      ]
    },
    {
      "cell_type": "code",
      "source": [
        "print(np.sqrt(mean_squared_error(y_test,y_pred)))"
      ],
      "metadata": {
        "colab": {
          "base_uri": "https://localhost:8080/"
        },
        "id": "N6JO3e8qG-VQ",
        "outputId": "76fd6fcb-1e39-490a-ca02-fde4c0d59353"
      },
      "execution_count": null,
      "outputs": [
        {
          "output_type": "stream",
          "name": "stdout",
          "text": [
            "0.370143555834182\n"
          ]
        }
      ]
    },
    {
      "cell_type": "code",
      "source": [],
      "metadata": {
        "id": "bh4lg-5aJITv"
      },
      "execution_count": null,
      "outputs": []
    }
  ]
}